{
 "cells": [
  {
   "cell_type": "markdown",
   "id": "iraqi-closing",
   "metadata": {},
   "source": [
    "# Notebook sobre Git"
   ]
  },
  {
   "cell_type": "markdown",
   "id": "bored-macedonia",
   "metadata": {},
   "source": [
    "Para este ejemplo estoy trabajando con un sistema de operativo windows"
   ]
  },
  {
   "cell_type": "markdown",
   "id": "bibliographic-basics",
   "metadata": {},
   "source": [
    "Creo una carpeta que sera la que use de ejemplo"
   ]
  },
  {
   "cell_type": "code",
   "execution_count": null,
   "id": "confident-extreme",
   "metadata": {},
   "outputs": [],
   "source": [
    "%sx md git-from-jupyter"
   ]
  },
  {
   "cell_type": "markdown",
   "id": "popular-remedy",
   "metadata": {},
   "source": [
    "Tambien crearemos un archivo para hacer la demostracion sobre como es que los modelos de git son una coleccion de archivos y carpetas"
   ]
  },
  {
   "cell_type": "code",
   "execution_count": null,
   "id": "european-hawaii",
   "metadata": {},
   "outputs": [],
   "source": [
    "%sx echo \"Ejemplo de git desde jupyter lab\" > ex.txt"
   ]
  },
  {
   "cell_type": "code",
   "execution_count": 7,
   "id": "conservative-insurance",
   "metadata": {},
   "outputs": [
    {
     "data": {
      "text/plain": [
       "[' Volume in drive C is Windows',\n",
       " ' Volume Serial Number is AC4F-A8C5',\n",
       " '',\n",
       " ' Directory of C:\\\\Users\\\\ThinkPad T490\\\\git-example',\n",
       " '',\n",
       " '02/10/2021  10:29 PM    <DIR>          .',\n",
       " '02/10/2021  10:29 PM    <DIR>          ..',\n",
       " '02/10/2021  12:20 AM    <DIR>          .ipynb_checkpoints',\n",
       " '02/10/2021  12:13 AM                56 ex.txt',\n",
       " '02/09/2021  11:41 PM    <DIR>          git-from-jupyter',\n",
       " '02/10/2021  10:29 PM            12,182 tarea2.ipynb',\n",
       " '02/10/2021  12:20 AM            11,009 Untitled.ipynb',\n",
       " '               3 File(s)         23,247 bytes',\n",
       " '               4 Dir(s)  43,853,639,680 bytes free']"
      ]
     },
     "execution_count": 7,
     "metadata": {},
     "output_type": "execute_result"
    }
   ],
   "source": [
    "%sx dir"
   ]
  },
  {
   "cell_type": "markdown",
   "id": "included-comparison",
   "metadata": {},
   "source": [
    "Vamos a inicializar nuestro repositorio"
   ]
  },
  {
   "cell_type": "code",
   "execution_count": 19,
   "id": "modified-observation",
   "metadata": {},
   "outputs": [
    {
     "data": {
      "text/plain": [
       "['Initialized empty Git repository in C:/Users/ThinkPad T490/git-example/.git/']"
      ]
     },
     "execution_count": 19,
     "metadata": {},
     "output_type": "execute_result"
    }
   ],
   "source": [
    "%sx git init"
   ]
  },
  {
   "cell_type": "markdown",
   "id": "friendly-obligation",
   "metadata": {},
   "source": [
    "El comando que se usa para ver el status de nuestro proyecto se **git status** este nos mostrara que archivos han sido modifcados"
   ]
  },
  {
   "cell_type": "markdown",
   "id": "every-receipt",
   "metadata": {},
   "source": [
    "## Git status"
   ]
  },
  {
   "cell_type": "code",
   "execution_count": 21,
   "id": "incorrect-procedure",
   "metadata": {},
   "outputs": [
    {
     "data": {
      "text/plain": [
       "['On branch master',\n",
       " '',\n",
       " 'No commits yet',\n",
       " '',\n",
       " 'Untracked files:',\n",
       " '  (use \"git add <file>...\" to include in what will be committed)',\n",
       " '\\t.ipynb_checkpoints/',\n",
       " '\\tUntitled.ipynb',\n",
       " '\\tex.txt',\n",
       " '',\n",
       " 'nothing added to commit but untracked files present (use \"git add\" to track)']"
      ]
     },
     "execution_count": 21,
     "metadata": {},
     "output_type": "execute_result"
    }
   ],
   "source": [
    "%sx git status"
   ]
  },
  {
   "cell_type": "markdown",
   "id": "inappropriate-equilibrium",
   "metadata": {},
   "source": [
    "## Git add"
   ]
  },
  {
   "cell_type": "markdown",
   "id": "initial-apple",
   "metadata": {},
   "source": [
    "Vamos a anadir a nuestro repositorio el archivo ex.txt para eso usamos el comando de git **git add nombrearchivo**"
   ]
  },
  {
   "cell_type": "code",
   "execution_count": 23,
   "id": "vocal-skating",
   "metadata": {},
   "outputs": [
    {
     "data": {
      "text/plain": [
       "[]"
      ]
     },
     "execution_count": 23,
     "metadata": {},
     "output_type": "execute_result"
    }
   ],
   "source": [
    "%sx git add ex.txt"
   ]
  },
  {
   "cell_type": "markdown",
   "id": "meaning-marathon",
   "metadata": {},
   "source": [
    "## Git commit"
   ]
  },
  {
   "cell_type": "markdown",
   "id": "after-combine",
   "metadata": {},
   "source": [
    "Ya que lo agregamos debemos asociarlo a un commmit que es como se le identifica a los cambios que hemos hecho en nuestro repositorio"
   ]
  },
  {
   "cell_type": "code",
   "execution_count": 25,
   "id": "liquid-hometown",
   "metadata": {},
   "outputs": [
    {
     "data": {
      "text/plain": [
       "['',\n",
       " '*** Please tell me who you are.',\n",
       " '',\n",
       " 'Run',\n",
       " '',\n",
       " '  git config --global user.email \"you@example.com\"',\n",
       " '  git config --global user.name \"Your Name\"',\n",
       " '',\n",
       " \"to set your account's default identity.\",\n",
       " 'Omit --global to set the identity only in this repository.',\n",
       " '',\n",
       " \"fatal: unable to auto-detect email address (got 'ThinkPad T490@Norman.(none)')\"]"
      ]
     },
     "execution_count": 25,
     "metadata": {},
     "output_type": "execute_result"
    }
   ],
   "source": [
    "%sx git commit -m \"initial commit\""
   ]
  },
  {
   "cell_type": "markdown",
   "id": "personal-kentucky",
   "metadata": {},
   "source": [
    "Como vemos me da un error de que no he configurado mis credenciales para este repo. Para configurar utilizamos los **git config**"
   ]
  },
  {
   "cell_type": "code",
   "execution_count": null,
   "id": "rental-material",
   "metadata": {},
   "outputs": [],
   "source": [
    "%sx git config user.email \"norman.vicente@galileo.edu\"\n",
    "%sx git config user.name \"normanaspx\""
   ]
  },
  {
   "cell_type": "code",
   "execution_count": 28,
   "id": "recent-behalf",
   "metadata": {},
   "outputs": [
    {
     "data": {
      "text/plain": [
       "['[master (root-commit) ab317e4] initial commit',\n",
       " ' 1 file changed, 1 insertion(+)',\n",
       " ' create mode 100644 ex.txt']"
      ]
     },
     "execution_count": 28,
     "metadata": {},
     "output_type": "execute_result"
    }
   ],
   "source": [
    "%sx git commit -m \"initial commit\""
   ]
  },
  {
   "cell_type": "markdown",
   "id": "mighty-admission",
   "metadata": {},
   "source": [
    "## Git log"
   ]
  },
  {
   "cell_type": "markdown",
   "id": "disabled-switzerland",
   "metadata": {},
   "source": [
    "Podemos revisar la metadata del commit con el comando **git log**"
   ]
  },
  {
   "cell_type": "code",
   "execution_count": 29,
   "id": "german-garbage",
   "metadata": {},
   "outputs": [
    {
     "data": {
      "text/plain": [
       "['commit ab317e406acd9d9d6739e20dce679e88d4c1ed79',\n",
       " 'Author: normanaspx <norman.vicenteo@gmail.com>',\n",
       " 'Date:   Tue Feb 9 23:57:01 2021 -0600',\n",
       " '',\n",
       " '    initial commit']"
      ]
     },
     "execution_count": 29,
     "metadata": {},
     "output_type": "execute_result"
    }
   ],
   "source": [
    "%sx git log"
   ]
  },
  {
   "cell_type": "markdown",
   "id": "bridal-metropolitan",
   "metadata": {},
   "source": [
    "Agremos un cambio al archivo"
   ]
  },
  {
   "cell_type": "code",
   "execution_count": 30,
   "id": "loaded-heater",
   "metadata": {},
   "outputs": [
    {
     "data": {
      "text/plain": [
       "[]"
      ]
     },
     "execution_count": 30,
     "metadata": {},
     "output_type": "execute_result"
    }
   ],
   "source": [
    "%sx echo \"go miami heat!\" >> ex.txt"
   ]
  },
  {
   "cell_type": "code",
   "execution_count": null,
   "id": "continental-particular",
   "metadata": {},
   "outputs": [],
   "source": [
    "Volvemos a agregar el archivo"
   ]
  },
  {
   "cell_type": "code",
   "execution_count": 31,
   "id": "expired-skill",
   "metadata": {},
   "outputs": [
    {
     "data": {
      "text/plain": [
       "[]"
      ]
     },
     "execution_count": 31,
     "metadata": {},
     "output_type": "execute_result"
    }
   ],
   "source": [
    "%sx git add ex.txt"
   ]
  },
  {
   "cell_type": "markdown",
   "id": "least-cleanup",
   "metadata": {},
   "source": [
    "Revisamos que efectivamente lo agregamos"
   ]
  },
  {
   "cell_type": "code",
   "execution_count": 33,
   "id": "asian-bosnia",
   "metadata": {},
   "outputs": [
    {
     "data": {
      "text/plain": [
       "['On branch master',\n",
       " 'Changes to be committed:',\n",
       " '  (use \"git restore --staged <file>...\" to unstage)',\n",
       " '\\tmodified:   ex.txt',\n",
       " '',\n",
       " 'Untracked files:',\n",
       " '  (use \"git add <file>...\" to include in what will be committed)',\n",
       " '\\t.ipynb_checkpoints/',\n",
       " '\\tUntitled.ipynb',\n",
       " '']"
      ]
     },
     "execution_count": 33,
     "metadata": {},
     "output_type": "execute_result"
    }
   ],
   "source": [
    "%sx git status"
   ]
  },
  {
   "cell_type": "markdown",
   "id": "shared-symposium",
   "metadata": {},
   "source": [
    "Al haber hecho un cambio en el archivo podemos guardar como commit"
   ]
  },
  {
   "cell_type": "code",
   "execution_count": 35,
   "id": "pregnant-wheat",
   "metadata": {},
   "outputs": [
    {
     "data": {
      "text/plain": [
       "['[master 92bc0a5] another change', ' 1 file changed, 1 insertion(+)']"
      ]
     },
     "execution_count": 35,
     "metadata": {},
     "output_type": "execute_result"
    }
   ],
   "source": [
    "%sx git commit -m \"another change\""
   ]
  },
  {
   "cell_type": "markdown",
   "id": "decimal-underground",
   "metadata": {},
   "source": [
    "Podemos usar el siguiente comando para ver el historial de los commit que hemos realizado mas la metadate del mismo"
   ]
  },
  {
   "cell_type": "code",
   "execution_count": 37,
   "id": "matched-meditation",
   "metadata": {},
   "outputs": [
    {
     "data": {
      "text/plain": [
       "['* commit 92bc0a5743caf43e1d7b42eddba960bb0440c22f (HEAD -> master)',\n",
       " '| Author: normanaspx <norman.vicenteo@gmail.com>',\n",
       " '| Date:   Wed Feb 10 00:15:44 2021 -0600',\n",
       " '| ',\n",
       " '|     another change',\n",
       " '| ',\n",
       " '* commit ab317e406acd9d9d6739e20dce679e88d4c1ed79',\n",
       " '  Author: normanaspx <norman.vicenteo@gmail.com>',\n",
       " '  Date:   Tue Feb 9 23:57:01 2021 -0600',\n",
       " '  ',\n",
       " '      initial commit']"
      ]
     },
     "execution_count": 37,
     "metadata": {},
     "output_type": "execute_result"
    }
   ],
   "source": [
    "%sx git log --all --graph --decorate"
   ]
  },
  {
   "cell_type": "code",
   "execution_count": 6,
   "id": "beautiful-partnership",
   "metadata": {},
   "outputs": [
    {
     "data": {
      "text/plain": [
       "['On branch master',\n",
       " 'Untracked files:',\n",
       " '  (use \"git add <file>...\" to include in what will be committed)',\n",
       " '\\t.ipynb_checkpoints/',\n",
       " '\\tUntitled.ipynb',\n",
       " '\\ttarea2.ipynb',\n",
       " '',\n",
       " 'nothing added to commit but untracked files present (use \"git add\" to track)']"
      ]
     },
     "execution_count": 6,
     "metadata": {},
     "output_type": "execute_result"
    }
   ],
   "source": [
    "%sx git status"
   ]
  },
  {
   "cell_type": "markdown",
   "id": "increasing-haiti",
   "metadata": {},
   "source": [
    "# Conclusiones"
   ]
  },
  {
   "cell_type": "markdown",
   "id": "trying-money",
   "metadata": {},
   "source": [
    "### Git es una herramienta que nos sirve para llevar un control sobre los cambios de nuestros proyectos. "
   ]
  },
  {
   "cell_type": "markdown",
   "id": "constant-compilation",
   "metadata": {},
   "source": [
    "### En lo personal lo he utlizado en mi pregrado para colaborar con mis companeros y en el trabajo lo uso tambien para llevar el versionamiento y cambios hechos en los proyectos."
   ]
  },
  {
   "cell_type": "code",
   "execution_count": null,
   "id": "global-pottery",
   "metadata": {},
   "outputs": [],
   "source": []
  }
 ],
 "metadata": {
  "kernelspec": {
   "display_name": "Python 3",
   "language": "python",
   "name": "python3"
  },
  "language_info": {
   "codemirror_mode": {
    "name": "ipython",
    "version": 3
   },
   "file_extension": ".py",
   "mimetype": "text/x-python",
   "name": "python",
   "nbconvert_exporter": "python",
   "pygments_lexer": "ipython3",
   "version": "3.8.5"
  }
 },
 "nbformat": 4,
 "nbformat_minor": 5
}
