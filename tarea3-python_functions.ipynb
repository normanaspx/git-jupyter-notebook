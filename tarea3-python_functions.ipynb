{
 "cells": [
  {
   "cell_type": "markdown",
   "id": "scenic-correspondence",
   "metadata": {},
   "source": [
    "# Funciones en Python"
   ]
  },
  {
   "cell_type": "markdown",
   "id": "alternative-interaction",
   "metadata": {},
   "source": [
    "## Funciones en Python"
   ]
  },
  {
   "cell_type": "markdown",
   "id": "expected-darkness",
   "metadata": {},
   "source": [
    "Una funciones es un bloque de codigo que se encarga de realizar acciones."
   ]
  },
  {
   "cell_type": "markdown",
   "id": "sacred-stamp",
   "metadata": {},
   "source": [
    "Las funciones nos ayudan a realizar acciones y ordenar mejor el codigo en este ejemplo necesitamos saber si cantidad de datos es par o impar."
   ]
  },
  {
   "cell_type": "code",
   "execution_count": 115,
   "id": "wooden-retrieval",
   "metadata": {},
   "outputs": [],
   "source": [
    "data = [100,200,300,400,500,600,700]\n",
    "def esPar(arr):\n",
    "    if(len(arr)%2==0):\n",
    "        return \"Es par\"\n",
    "    else:\n",
    "        return \"Es impar\""
   ]
  },
  {
   "cell_type": "code",
   "execution_count": 116,
   "id": "plain-baltimore",
   "metadata": {},
   "outputs": [
    {
     "data": {
      "text/plain": [
       "'Es impar'"
      ]
     },
     "execution_count": 116,
     "metadata": {},
     "output_type": "execute_result"
    }
   ],
   "source": [
    "esPar(data)"
   ]
  },
  {
   "cell_type": "markdown",
   "id": "forward-lexington",
   "metadata": {},
   "source": [
    "## Argumentos posicionales"
   ]
  },
  {
   "cell_type": "markdown",
   "id": "emotional-complexity",
   "metadata": {},
   "source": [
    "Son argumentos que se le pasan a una funcion tomando en cuenta su posicion en la definicion de la funcion.\n",
    "Para el ejemplo vamos a importar la libreria math"
   ]
  },
  {
   "cell_type": "code",
   "execution_count": 6,
   "id": "excess-psychology",
   "metadata": {},
   "outputs": [],
   "source": [
    "from math import factorial"
   ]
  },
  {
   "cell_type": "markdown",
   "id": "gross-performance",
   "metadata": {},
   "source": [
    "Vamos a crear una funcion que devuelve el resultado de una combinacion (nCr) obviamente nos interesa el orden de los parametros por lo tanto utilizamos argumentos posicionales"
   ]
  },
  {
   "cell_type": "code",
   "execution_count": 10,
   "id": "suitable-surprise",
   "metadata": {},
   "outputs": [],
   "source": [
    "def combinacion(n, r):\n",
    "    return factorial(n) // (factorial(r) * factorial(n - r)) "
   ]
  },
  {
   "cell_type": "code",
   "execution_count": 9,
   "id": "lasting-casting",
   "metadata": {},
   "outputs": [
    {
     "data": {
      "text/plain": [
       "21"
      ]
     },
     "execution_count": 9,
     "metadata": {},
     "output_type": "execute_result"
    }
   ],
   "source": [
    "combinacion(7,2)"
   ]
  },
  {
   "cell_type": "markdown",
   "id": "preceding-introduction",
   "metadata": {},
   "source": [
    "## Parametros nombrados"
   ]
  },
  {
   "cell_type": "markdown",
   "id": "together-description",
   "metadata": {},
   "source": [
    "Para los parametros nombrados al momento de llamar a la funcion el orden ya no importa ya que podemos hacer referencia al nombre del parametro."
   ]
  },
  {
   "cell_type": "code",
   "execution_count": 15,
   "id": "conventional-specific",
   "metadata": {},
   "outputs": [
    {
     "data": {
      "text/plain": [
       "21"
      ]
     },
     "execution_count": 15,
     "metadata": {},
     "output_type": "execute_result"
    }
   ],
   "source": [
    "combinacion(r=2,n=7)"
   ]
  },
  {
   "cell_type": "markdown",
   "id": "ecological-guide",
   "metadata": {},
   "source": [
    "Como vimos en el ejemplo usamos la funcion en orden distinto pero haciendo referencia a los nombres de los parametros. No podemos hacer referencia al nombre de un parametro que no exista o nos dara error, como en el siguiente caso:"
   ]
  },
  {
   "cell_type": "code",
   "execution_count": null,
   "id": "cubic-breath",
   "metadata": {},
   "outputs": [],
   "source": [
    "combinacion(x=2,n=7) #esto dara un errror"
   ]
  },
  {
   "cell_type": "markdown",
   "id": "intense-source",
   "metadata": {},
   "source": [
    "## Retorno de variables multiples"
   ]
  },
  {
   "cell_type": "markdown",
   "id": "legendary-holder",
   "metadata": {},
   "source": [
    "Para este tipo de funcion su caracteristica es que devuelve multiples valores. Veamos un ejemplo."
   ]
  },
  {
   "cell_type": "code",
   "execution_count": 1,
   "id": "relative-foundation",
   "metadata": {},
   "outputs": [],
   "source": [
    "import math\n",
    "def intervalo_de_confianza(n, media, desvest):\n",
    "    margen_de_error = 1.96 * (desvest / (math.sqrt(n)))\n",
    "    return round(media-margen_de_error, 2), round(media+margen_de_error, 2), margen_de_error\n",
    "    "
   ]
  },
  {
   "cell_type": "markdown",
   "id": "special-contemporary",
   "metadata": {},
   "source": [
    "Para este ejemplo creamos una funcion que retorna el intervalo de confianza a un 95%, como parametros le enviamos la cantidad de datos, media de los datos y su desviacion estandar."
   ]
  },
  {
   "cell_type": "code",
   "execution_count": 2,
   "id": "private-screw",
   "metadata": {},
   "outputs": [
    {
     "data": {
      "text/plain": [
       "(24.11, 25.49, 0.6929646455628165)"
      ]
     },
     "execution_count": 2,
     "metadata": {},
     "output_type": "execute_result"
    }
   ],
   "source": [
    "intervalo_de_confianza(200, 24.8, 5)"
   ]
  },
  {
   "cell_type": "markdown",
   "id": "above-matrix",
   "metadata": {},
   "source": [
    "Podemos ver que nos retorna tres valores que son: **limite inferior, limite superior y el margen de error**."
   ]
  },
  {
   "cell_type": "code",
   "execution_count": 4,
   "id": "closing-burden",
   "metadata": {},
   "outputs": [],
   "source": [
    "limite_inf, limite_sup, margen_e = intervalo_de_confianza(200, 24.8, 5)"
   ]
  },
  {
   "cell_type": "code",
   "execution_count": 5,
   "id": "fossil-county",
   "metadata": {},
   "outputs": [
    {
     "name": "stdout",
     "output_type": "stream",
     "text": [
      "El intervalo de confianza a un 95% es ( 24.11 , 25.49 ) con un margen de error de: 0.6929646455628165\n"
     ]
    }
   ],
   "source": [
    "print (\"El intervalo de confianza a un 95% es (\",limite_inf,\",\",limite_sup,\") con un margen de error de:\", margen_e)"
   ]
  },
  {
   "cell_type": "markdown",
   "id": "individual-probability",
   "metadata": {},
   "source": [
    "## Funciones como objetos y como parametros de otras funciones"
   ]
  },
  {
   "cell_type": "markdown",
   "id": "cooked-checklist",
   "metadata": {},
   "source": [
    "En python podemos tratar a las funciones como objetos veamos un ejemplo con la funcion **intervalo_de_confianza**:"
   ]
  },
  {
   "cell_type": "code",
   "execution_count": 6,
   "id": "preceding-belfast",
   "metadata": {},
   "outputs": [],
   "source": [
    "confidence_interval = intervalo_de_confianza"
   ]
  },
  {
   "cell_type": "markdown",
   "id": "aquatic-entertainment",
   "metadata": {},
   "source": [
    "Vemos que al ser un objeto podemos igualarla a otro objeto en este caso confidence_interval"
   ]
  },
  {
   "cell_type": "code",
   "execution_count": 7,
   "id": "recreational-china",
   "metadata": {},
   "outputs": [
    {
     "data": {
      "text/plain": [
       "(24.11, 25.49, 0.6929646455628165)"
      ]
     },
     "execution_count": 7,
     "metadata": {},
     "output_type": "execute_result"
    }
   ],
   "source": [
    "confidence_interval(200, 24.8, 5)"
   ]
  },
  {
   "cell_type": "markdown",
   "id": "municipal-commercial",
   "metadata": {},
   "source": [
    "Tambien podemos crear una funcion que reciba como parametro otra funcion. En una distribucion de numeros podemos tener datos atipicos por lo que en ocaciones es preferible la mediana sobre la media"
   ]
  },
  {
   "cell_type": "code",
   "execution_count": 97,
   "id": "awful-precipitation",
   "metadata": {},
   "outputs": [],
   "source": [
    "import statistics as stats\n",
    "edades = [7, 4, 10, 9, 4, 8, 10, 2, 5, 77, 10]\n",
    "def mejor_dato_medio(nombre_funcion, d):\n",
    "    return nombre_funcion(d)"
   ]
  },
  {
   "cell_type": "code",
   "execution_count": 98,
   "id": "particular-heading",
   "metadata": {},
   "outputs": [
    {
     "data": {
      "text/plain": [
       "8"
      ]
     },
     "execution_count": 98,
     "metadata": {},
     "output_type": "execute_result"
    }
   ],
   "source": [
    "mejor_dato_medio(stats.median, edades)"
   ]
  },
  {
   "cell_type": "code",
   "execution_count": 99,
   "id": "palestinian-advocate",
   "metadata": {},
   "outputs": [
    {
     "data": {
      "text/plain": [
       "13.272727272727273"
      ]
     },
     "execution_count": 99,
     "metadata": {},
     "output_type": "execute_result"
    }
   ],
   "source": [
    "mejor_dato_medio(stats.mean, edades)"
   ]
  },
  {
   "cell_type": "markdown",
   "id": "mature-fellowship",
   "metadata": {},
   "source": [
    "**Vemos que usamos el nombre de la funcion como parametro** haciendo un analisis de la media como de la mediana siendo la mediana la que me da mejor representacion de la mitad de los datos"
   ]
  },
  {
   "cell_type": "markdown",
   "id": "affecting-production",
   "metadata": {},
   "source": [
    "## Funciones anonimas o Lambda"
   ]
  },
  {
   "cell_type": "markdown",
   "id": "typical-serial",
   "metadata": {},
   "source": [
    "Las funciones lambda son funciones que podemos ejecutar sin tener que definirlas, en general se usan para realizar funciones simples y no tan complejas como una definida con **def**."
   ]
  },
  {
   "cell_type": "code",
   "execution_count": 110,
   "id": "about-fabric",
   "metadata": {},
   "outputs": [],
   "source": [
    "decimal = lambda n:n / 100 "
   ]
  },
  {
   "cell_type": "code",
   "execution_count": 111,
   "id": "emotional-colombia",
   "metadata": {},
   "outputs": [
    {
     "data": {
      "text/plain": [
       "0.1"
      ]
     },
     "execution_count": 111,
     "metadata": {},
     "output_type": "execute_result"
    }
   ],
   "source": [
    "decimal(10)"
   ]
  },
  {
   "cell_type": "markdown",
   "id": "listed-vehicle",
   "metadata": {},
   "source": [
    "Creamos una funcion para obetener el decimal de un numero"
   ]
  }
 ],
 "metadata": {
  "kernelspec": {
   "display_name": "Python 3",
   "language": "python",
   "name": "python3"
  },
  "language_info": {
   "codemirror_mode": {
    "name": "ipython",
    "version": 3
   },
   "file_extension": ".py",
   "mimetype": "text/x-python",
   "name": "python",
   "nbconvert_exporter": "python",
   "pygments_lexer": "ipython3",
   "version": "3.8.5"
  }
 },
 "nbformat": 4,
 "nbformat_minor": 5
}
