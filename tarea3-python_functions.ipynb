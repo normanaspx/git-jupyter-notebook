{
 "cells": [
  {
   "cell_type": "markdown",
   "id": "spanish-spectrum",
   "metadata": {},
   "source": [
    "# Funciones en Python"
   ]
  },
  {
   "cell_type": "markdown",
   "id": "changed-palmer",
   "metadata": {},
   "source": [
    "## Funciones en Python"
   ]
  },
  {
   "cell_type": "markdown",
   "id": "spiritual-dragon",
   "metadata": {},
   "source": [
    "Una funciones es un bloque de codigo que se encarga de realizar acciones."
   ]
  },
  {
   "cell_type": "markdown",
   "id": "lightweight-collective",
   "metadata": {},
   "source": [
    "Las funciones nos ayudan a realizar acciones y ordenar mejor el codigo en este ejemplo necesitamos saber si cantidad de datos es par o impar."
   ]
  },
  {
   "cell_type": "code",
   "execution_count": 115,
   "id": "grateful-membership",
   "metadata": {},
   "outputs": [],
   "source": [
    "data = [100,200,300,400,500,600,700]\n",
    "def esPar(arr):\n",
    "    if(len(arr)%2==0):\n",
    "        return \"Es par\"\n",
    "    else:\n",
    "        return \"Es impar\""
   ]
  },
  {
   "cell_type": "code",
   "execution_count": 116,
   "id": "urban-river",
   "metadata": {},
   "outputs": [
    {
     "data": {
      "text/plain": [
       "'Es impar'"
      ]
     },
     "execution_count": 116,
     "metadata": {},
     "output_type": "execute_result"
    }
   ],
   "source": [
    "esPar(data)"
   ]
  },
  {
   "cell_type": "markdown",
   "id": "overhead-making",
   "metadata": {},
   "source": [
    "## Argumentos posicionales"
   ]
  },
  {
   "cell_type": "markdown",
   "id": "automotive-ordering",
   "metadata": {},
   "source": [
    "Son argumentos que se le pasan a una funcion tomando en cuenta su posicion en la definicion de la funcion.\n",
    "Para el ejemplo vamos a importar la libreria math"
   ]
  },
  {
   "cell_type": "code",
   "execution_count": 6,
   "id": "pediatric-monaco",
   "metadata": {},
   "outputs": [],
   "source": [
    "from math import factorial"
   ]
  },
  {
   "cell_type": "markdown",
   "id": "complete-struggle",
   "metadata": {},
   "source": [
    "Vamos a crear una funcion que devuelve el resultado de una combinacion (nCr) obviamente nos interesa el orden de los parametros por lo tanto utilizamos argumentos posicionales"
   ]
  },
  {
   "cell_type": "code",
   "execution_count": 10,
   "id": "present-memory",
   "metadata": {},
   "outputs": [],
   "source": [
    "def combinacion(n, r):\n",
    "    return factorial(n) // (factorial(r) * factorial(n - r)) "
   ]
  },
  {
   "cell_type": "code",
   "execution_count": 9,
   "id": "forty-viking",
   "metadata": {},
   "outputs": [
    {
     "data": {
      "text/plain": [
       "21"
      ]
     },
     "execution_count": 9,
     "metadata": {},
     "output_type": "execute_result"
    }
   ],
   "source": [
    "combinacion(7,2)"
   ]
  },
  {
   "cell_type": "markdown",
   "id": "moral-snapshot",
   "metadata": {},
   "source": [
    "## Parametros nombrados"
   ]
  },
  {
   "cell_type": "markdown",
   "id": "acute-pacific",
   "metadata": {},
   "source": [
    "Para los parametros nombrados al momento de llamar a la funcion el orden ya no importa ya que podemos hacer referencia al nombre del parametro."
   ]
  },
  {
   "cell_type": "code",
   "execution_count": 15,
   "id": "adequate-analysis",
   "metadata": {},
   "outputs": [
    {
     "data": {
      "text/plain": [
       "21"
      ]
     },
     "execution_count": 15,
     "metadata": {},
     "output_type": "execute_result"
    }
   ],
   "source": [
    "combinacion(r=2,n=7)"
   ]
  },
  {
   "cell_type": "markdown",
   "id": "brutal-beaver",
   "metadata": {},
   "source": [
    "Como vimos en el ejemplo usamos la funcion en orden distinto pero haciendo referencia a los nombres de los parametros. No podemos hacer referencia al nombre de un parametro que no exista o nos dara error, como en el siguiente caso:"
   ]
  },
  {
   "cell_type": "code",
   "execution_count": null,
   "id": "major-highlight",
   "metadata": {},
   "outputs": [],
   "source": [
    "combinacion(x=2,n=7) #esto dara un errror"
   ]
  },
  {
   "cell_type": "markdown",
   "id": "administrative-sudan",
   "metadata": {},
   "source": [
    "## Retorno de variables multiples"
   ]
  },
  {
   "cell_type": "markdown",
   "id": "square-malawi",
   "metadata": {},
   "source": [
    "Para este tipo de funcion su caracteristica es que devuelve multiples valores. Veamos un ejemplo."
   ]
  },
  {
   "cell_type": "code",
   "execution_count": 27,
   "id": "middle-pierce",
   "metadata": {},
   "outputs": [],
   "source": [
    "import math\n",
    "def limite_de_confianza(n, media, desvest):\n",
    "    margen_de_error = 1.96 * (desvest / (math.sqrt(n)))\n",
    "    return round(media-margen_de_error, 2), round(media+margen_de_error, 2), margen_de_error\n",
    "    "
   ]
  },
  {
   "cell_type": "markdown",
   "id": "banner-control",
   "metadata": {},
   "source": [
    "Para este ejemplo creamos una funcion que retorna los limites de confianza a un 95%, como parametros le enviamos la cantidad de datos, media de los datos y su desviacion estandar."
   ]
  },
  {
   "cell_type": "code",
   "execution_count": 28,
   "id": "romance-beginning",
   "metadata": {},
   "outputs": [
    {
     "data": {
      "text/plain": [
       "(24.11, 25.49, 0.6929646455628165)"
      ]
     },
     "execution_count": 28,
     "metadata": {},
     "output_type": "execute_result"
    }
   ],
   "source": [
    "limite_de_confianza(200, 24.8, 5)"
   ]
  },
  {
   "cell_type": "markdown",
   "id": "signed-state",
   "metadata": {},
   "source": [
    "Podemos ver que nos retorna tres valores que son: **limite inferior, limite superior y el margen de error**."
   ]
  },
  {
   "cell_type": "code",
   "execution_count": 117,
   "id": "editorial-administrator",
   "metadata": {},
   "outputs": [],
   "source": [
    "limite_inf, limite_sup, margen_e = limite_de_confianza(200, 24.8, 5)"
   ]
  },
  {
   "cell_type": "code",
   "execution_count": 45,
   "id": "twenty-voltage",
   "metadata": {},
   "outputs": [
    {
     "name": "stdout",
     "output_type": "stream",
     "text": [
      "El intervalo de confianza a un 95% es ( 24.11 , 25.49 ) con un margen de error de: 0.6929646455628165\n"
     ]
    }
   ],
   "source": [
    "print (\"El intervalo de confianza a un 95% es (\",limite_inf,\",\",limite_sup,\") con un margen de error de:\", margen_e)"
   ]
  },
  {
   "cell_type": "markdown",
   "id": "published-titanium",
   "metadata": {},
   "source": [
    "## Funciones como objetos y como parametros de otras funciones"
   ]
  },
  {
   "cell_type": "markdown",
   "id": "express-newport",
   "metadata": {},
   "source": [
    "En python podemos tratar a las funciones como objetos veamos un ejemplo con la funcion **limite_de_confianza**:"
   ]
  },
  {
   "cell_type": "code",
   "execution_count": 48,
   "id": "educated-canvas",
   "metadata": {},
   "outputs": [],
   "source": [
    "confidence_interval = limite_de_confianza"
   ]
  },
  {
   "cell_type": "markdown",
   "id": "lined-brisbane",
   "metadata": {},
   "source": [
    "Vemos que al ser un objeto podemos igualarla a otro objeto en este caso confidence_interval"
   ]
  },
  {
   "cell_type": "code",
   "execution_count": 51,
   "id": "dynamic-missouri",
   "metadata": {},
   "outputs": [
    {
     "data": {
      "text/plain": [
       "(24.11, 25.49, 0.6929646455628165)"
      ]
     },
     "execution_count": 51,
     "metadata": {},
     "output_type": "execute_result"
    }
   ],
   "source": [
    "confidence_interval(200, 24.8, 5)"
   ]
  },
  {
   "cell_type": "markdown",
   "id": "common-starter",
   "metadata": {},
   "source": [
    "Tambien podemos crear una funcion que reciba como parametro otra funcion. En una distribucion de numeros podemos tener datos atipicos por lo que en ocaciones es preferible la mediana sobre la media"
   ]
  },
  {
   "cell_type": "code",
   "execution_count": 97,
   "id": "theoretical-strip",
   "metadata": {},
   "outputs": [],
   "source": [
    "import statistics as stats\n",
    "edades = [7, 4, 10, 9, 4, 8, 10, 2, 5, 77, 10]\n",
    "def mejor_dato_medio(nombre_funcion, d):\n",
    "    return nombre_funcion(d)"
   ]
  },
  {
   "cell_type": "code",
   "execution_count": 98,
   "id": "another-guarantee",
   "metadata": {},
   "outputs": [
    {
     "data": {
      "text/plain": [
       "8"
      ]
     },
     "execution_count": 98,
     "metadata": {},
     "output_type": "execute_result"
    }
   ],
   "source": [
    "mejor_dato_medio(stats.median, edades)"
   ]
  },
  {
   "cell_type": "code",
   "execution_count": 99,
   "id": "exclusive-technology",
   "metadata": {},
   "outputs": [
    {
     "data": {
      "text/plain": [
       "13.272727272727273"
      ]
     },
     "execution_count": 99,
     "metadata": {},
     "output_type": "execute_result"
    }
   ],
   "source": [
    "mejor_dato_medio(stats.mean, edades)"
   ]
  },
  {
   "cell_type": "markdown",
   "id": "documentary-separate",
   "metadata": {},
   "source": [
    "**Vemos que usamos el nombre de la funcion como parametro** haciendo un analisis de la media como de la mediana siendo la mediana la que me da mejor representacion de la mitad de los datos"
   ]
  },
  {
   "cell_type": "markdown",
   "id": "comic-february",
   "metadata": {},
   "source": [
    "## Funciones anonimas o Lambda"
   ]
  },
  {
   "cell_type": "markdown",
   "id": "ignored-protest",
   "metadata": {},
   "source": [
    "Las funciones lambda son funciones que podemos ejecutar sin tener que definirlas, en general se usan para realizar funciones simples y no tan complejas como una definida con **def**."
   ]
  },
  {
   "cell_type": "code",
   "execution_count": 110,
   "id": "completed-embassy",
   "metadata": {},
   "outputs": [],
   "source": [
    "decimal = lambda n:n / 100 "
   ]
  },
  {
   "cell_type": "code",
   "execution_count": 111,
   "id": "configured-stock",
   "metadata": {},
   "outputs": [
    {
     "data": {
      "text/plain": [
       "0.1"
      ]
     },
     "execution_count": 111,
     "metadata": {},
     "output_type": "execute_result"
    }
   ],
   "source": [
    "decimal(10)"
   ]
  },
  {
   "cell_type": "markdown",
   "id": "geological-gabriel",
   "metadata": {},
   "source": [
    "Creamos una funcion para obetener el decimal de un numero"
   ]
  }
 ],
 "metadata": {
  "kernelspec": {
   "display_name": "Python 3",
   "language": "python",
   "name": "python3"
  },
  "language_info": {
   "codemirror_mode": {
    "name": "ipython",
    "version": 3
   },
   "file_extension": ".py",
   "mimetype": "text/x-python",
   "name": "python",
   "nbconvert_exporter": "python",
   "pygments_lexer": "ipython3",
   "version": "3.8.5"
  }
 },
 "nbformat": 4,
 "nbformat_minor": 5
}
